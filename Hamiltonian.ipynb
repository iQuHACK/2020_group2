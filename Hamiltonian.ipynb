{
 "cells": [
  {
   "cell_type": "markdown",
   "metadata": {},
   "source": [
    "## Hamiltonian Operator defined with the objects provided in Qiskit"
   ]
  },
  {
   "cell_type": "code",
   "execution_count": 93,
   "metadata": {},
   "outputs": [
    {
     "name": "stderr",
     "output_type": "stream",
     "text": [
      "/Users/Arthur/anaconda2/envs/Qiskitenv/lib/python3.6/site-packages/qiskit/providers/ibmq/ibmqfactory.py:181: UserWarning: Credentials are already in use. The existing account in the session will be replaced.\n",
      "  warnings.warn('Credentials are already in use. The existing '\n"
     ]
    },
    {
     "data": {
      "text/plain": [
       "<AccountProvider for IBMQ(hub='ibm-q', group='open', project='main')>"
      ]
     },
     "execution_count": 93,
     "metadata": {},
     "output_type": "execute_result"
    }
   ],
   "source": [
    "from qiskit import *\n",
    "import qiskit.tools.jupyter\n",
    "import numpy as np\n",
    "IBMQ.load_account()"
   ]
  },
  {
   "cell_type": "code",
   "execution_count": 1,
   "metadata": {},
   "outputs": [
    {
     "ename": "NameError",
     "evalue": "name 'np' is not defined",
     "output_type": "error",
     "traceback": [
      "\u001b[0;31m---------------------------------------------------------------------------\u001b[0m",
      "\u001b[0;31mNameError\u001b[0m                                 Traceback (most recent call last)",
      "\u001b[0;32m<ipython-input-1-1e26e83abf2b>\u001b[0m in \u001b[0;36m<module>\u001b[0;34m\u001b[0m\n\u001b[1;32m      1\u001b[0m \u001b[0;31m# numerical form of a Hamiltonian in one of the parity sectors. Number of spatial sites is L = 2.\u001b[0m\u001b[0;34m\u001b[0m\u001b[0;34m\u001b[0m\u001b[0m\n\u001b[0;32m----> 2\u001b[0;31m h = np.array([\n\u001b[0m\u001b[1;32m      3\u001b[0m  \u001b[0;34m[\u001b[0m\u001b[0;34m-\u001b[0m\u001b[0;36m0.20036\u001b[0m\u001b[0;34m,\u001b[0m \u001b[0;36m1.19976\u001b[0m\u001b[0;34m,\u001b[0m \u001b[0;36m0.\u001b[0m\u001b[0;34m,\u001b[0m \u001b[0;36m0.\u001b[0m\u001b[0;34m]\u001b[0m\u001b[0;34m,\u001b[0m\u001b[0;34m\u001b[0m\u001b[0m\n\u001b[1;32m      4\u001b[0m  \u001b[0;34m[\u001b[0m\u001b[0;36m1.19976\u001b[0m\u001b[0;34m,\u001b[0m \u001b[0;36m1.\u001b[0m\u001b[0;34m,\u001b[0m \u001b[0;36m0.848358\u001b[0m\u001b[0;34m,\u001b[0m \u001b[0;36m0.\u001b[0m\u001b[0;34m]\u001b[0m\u001b[0;34m,\u001b[0m\u001b[0;34m\u001b[0m\u001b[0m\n\u001b[1;32m      5\u001b[0m  \u001b[0;34m[\u001b[0m\u001b[0;36m0.\u001b[0m\u001b[0;34m,\u001b[0m \u001b[0;36m0.848358\u001b[0m\u001b[0;34m,\u001b[0m \u001b[0;36m2.20036\u001b[0m\u001b[0;34m,\u001b[0m \u001b[0;36m0.848358\u001b[0m\u001b[0;34m]\u001b[0m\u001b[0;34m,\u001b[0m\u001b[0;34m\u001b[0m\u001b[0m\n",
      "\u001b[0;31mNameError\u001b[0m: name 'np' is not defined"
     ]
    }
   ],
   "source": [
    "# numerical form of a Hamiltonian in one of the parity sectors. Number of spatial sites is L = 2.\n",
    "h = np.array([\n",
    " [-0.20036, 1.19976, 0., 0.],\n",
    " [1.19976, 1., 0.848358, 0.],\n",
    " [0., 0.848358, 2.20036, 0.848358],\n",
    " [0., 0., 0.848358, 3.]\n",
    "])"
   ]
  },
  {
   "cell_type": "code",
   "execution_count": 96,
   "metadata": {},
   "outputs": [],
   "source": [
    "from scipy.sparse import *\n",
    "from scipy import *\n",
    "# not necessary; will be converted to CSR matrix internally anyway.\n",
    "H = csr_matrix(h)"
   ]
  },
  {
   "cell_type": "code",
   "execution_count": 97,
   "metadata": {},
   "outputs": [
    {
     "data": {
      "text/plain": [
       "matrix([[-0.20036 ,  1.19976 ,  0.      ,  0.      ],\n",
       "        [ 1.19976 ,  1.      ,  0.848358,  0.      ],\n",
       "        [ 0.      ,  0.848358,  2.20036 ,  0.848358],\n",
       "        [ 0.      ,  0.      ,  0.848358,  3.      ]])"
      ]
     },
     "execution_count": 97,
     "metadata": {},
     "output_type": "execute_result"
    }
   ],
   "source": [
    "H.todense()"
   ]
  },
  {
   "cell_type": "code",
   "execution_count": 98,
   "metadata": {},
   "outputs": [],
   "source": [
    "x = qiskit.aqua.operators.MatrixOperator(H)"
   ]
  },
  {
   "cell_type": "code",
   "execution_count": 99,
   "metadata": {},
   "outputs": [
    {
     "data": {
      "text/plain": [
       "2"
      ]
     },
     "execution_count": 99,
     "metadata": {},
     "output_type": "execute_result"
    }
   ],
   "source": [
    "x.num_qubits"
   ]
  },
  {
   "cell_type": "code",
   "execution_count": 100,
   "metadata": {},
   "outputs": [],
   "source": [
    "y = qiskit.aqua.operators.op_converter.to_weighted_pauli_operator(x)"
   ]
  },
  {
   "cell_type": "code",
   "execution_count": 101,
   "metadata": {},
   "outputs": [
    {
     "data": {
      "text/plain": [
       "[[(1.5+0j), Pauli(z=[False, False], x=[False, False])],\n",
       " [(1.0240589999999998+0j), Pauli(z=[False, False], x=[True, False])],\n",
       " [(-0.5+0j), Pauli(z=[True, False], x=[False, False])],\n",
       " [(0.424179+0j), Pauli(z=[False, False], x=[True, True])],\n",
       " [(0.424179+0j), Pauli(z=[True, True], x=[True, True])],\n",
       " [(-1.10018+0j), Pauli(z=[False, True], x=[False, False])],\n",
       " [(0.175701+0j), Pauli(z=[False, True], x=[True, False])],\n",
       " [(-0.10017999999999999+0j), Pauli(z=[True, True], x=[False, False])]]"
      ]
     },
     "execution_count": 101,
     "metadata": {},
     "output_type": "execute_result"
    }
   ],
   "source": [
    "y.paulis"
   ]
  },
  {
   "cell_type": "markdown",
   "metadata": {},
   "source": [
    "    \"\"\"A simple class representing Pauli Operators.\n",
    "    The form is P_zx = (-i)^dot(z,x) Z^z X^x where z and x are elements of Z_2^n.\n",
    "    That is, there are 4^n elements (no phases in this group).\n",
    "    For example, for 1 qubit\n",
    "    P_00 = Z^0 X^0 = I\n",
    "    P_01 = X\n",
    "    P_10 = Z\n",
    "    P_11 = -iZX = (-i) iY = Y\n",
    "    The overload __mul__ does not track the sign: P1*P2 = Z^(z1+z2) X^(x1+x2) but\n",
    "    sgn_prod does __mul__ and track the phase: P1*P2 = (-i)^dot(z1+z2,x1+x2) Z^(z1+z2) X^(x1+x2)\n",
    "    where the sums are taken modulo 2.\n",
    "    Pauli vectors z and x are supposed to be defined as boolean numpy arrays.\n",
    "    Ref.\n",
    "    Jeroen Dehaene and Bart De Moor\n",
    "    Clifford group, stabilizer states, and linear and quadratic operations\n",
    "    over GF(2)\n",
    "    Phys. Rev. A 68, 042318 – Published 20 October 2003\n",
    "    \"\"\"\n"
   ]
  },
  {
   "cell_type": "code",
   "execution_count": 90,
   "metadata": {},
   "outputs": [],
   "source": [
    "# https://arxiv.org/pdf/1907.03358.pdf\n",
    "z = qiskit.aqua.operators.op_converter.to_tpb_grouped_weighted_pauli_operator(x, qiskit.aqua.operators.TPBGroupedWeightedPauliOperator.sorted_grouping)\n",
    "#"
   ]
  },
  {
   "cell_type": "code",
   "execution_count": 102,
   "metadata": {},
   "outputs": [
    {
     "data": {
      "text/plain": [
       "4"
      ]
     },
     "execution_count": 102,
     "metadata": {},
     "output_type": "execute_result"
    }
   ],
   "source": [
    "z.num_groups"
   ]
  },
  {
   "cell_type": "code",
   "execution_count": 103,
   "metadata": {},
   "outputs": [
    {
     "name": "stdout",
     "output_type": "stream",
     "text": [
      "TPB: YY (2)\n",
      "II\t(1.5+0j)\n",
      "YY\t(0.424179+0j)\n",
      "TPB: XX (2)\n",
      "IX\t(1.0240589999999998+0j)\n",
      "XX\t(0.424179+0j)\n",
      "TPB: ZZ (3)\n",
      "IZ\t(-0.5+0j)\n",
      "ZI\t(-1.10018+0j)\n",
      "ZZ\t(-0.10017999999999999+0j)\n",
      "TPB: ZX (1)\n",
      "ZX\t(0.175701+0j)\n",
      "\n"
     ]
    }
   ],
   "source": [
    "s = z.print_details()\n",
    "print(s)"
   ]
  },
  {
   "cell_type": "code",
   "execution_count": 104,
   "metadata": {},
   "outputs": [
    {
     "ename": "AquaError",
     "evalue": "'wave_function must not be None.'",
     "output_type": "error",
     "traceback": [
      "\u001b[0;31m---------------------------------------------------------------------------\u001b[0m",
      "\u001b[0;31mAquaError\u001b[0m                                 Traceback (most recent call last)",
      "\u001b[0;32m<ipython-input-104-cc7b424a1782>\u001b[0m in \u001b[0;36m<module>\u001b[0;34m\u001b[0m\n\u001b[0;32m----> 1\u001b[0;31m \u001b[0mz\u001b[0m\u001b[0;34m.\u001b[0m\u001b[0mconstruct_evaluation_circuit\u001b[0m\u001b[0;34m(\u001b[0m\u001b[0;34m)\u001b[0m\u001b[0;34m\u001b[0m\u001b[0m\n\u001b[0m",
      "\u001b[0;32m~/anaconda2/envs/Qiskitenv/lib/python3.6/site-packages/qiskit/aqua/operators/weighted_pauli_operator.py\u001b[0m in \u001b[0;36mconstruct_evaluation_circuit\u001b[0;34m(self, operator_mode, input_circuit, backend, qr, cr, use_simulator_operator_mode, wave_function, statevector_mode, circuit_name_prefix)\u001b[0m\n\u001b[1;32m    625\u001b[0m         \u001b[0;32melse\u001b[0m\u001b[0;34m:\u001b[0m\u001b[0;34m\u001b[0m\u001b[0m\n\u001b[1;32m    626\u001b[0m             \u001b[0;32mif\u001b[0m \u001b[0mwave_function\u001b[0m \u001b[0;32mis\u001b[0m \u001b[0;32mNone\u001b[0m\u001b[0;34m:\u001b[0m\u001b[0;34m\u001b[0m\u001b[0m\n\u001b[0;32m--> 627\u001b[0;31m                 \u001b[0;32mraise\u001b[0m \u001b[0mAquaError\u001b[0m\u001b[0;34m(\u001b[0m\u001b[0;34m\"wave_function must not be None.\"\u001b[0m\u001b[0;34m)\u001b[0m\u001b[0;34m\u001b[0m\u001b[0m\n\u001b[0m\u001b[1;32m    628\u001b[0m \u001b[0;34m\u001b[0m\u001b[0m\n\u001b[1;32m    629\u001b[0m         \u001b[0;32mif\u001b[0m \u001b[0mqr\u001b[0m \u001b[0;32mis\u001b[0m \u001b[0;32mNone\u001b[0m\u001b[0;34m:\u001b[0m\u001b[0;34m\u001b[0m\u001b[0m\n",
      "\u001b[0;31mAquaError\u001b[0m: 'wave_function must not be None.'"
     ]
    }
   ],
   "source": [
    "z.construct_evaluation_circuit()"
   ]
  },
  {
   "cell_type": "code",
   "execution_count": null,
   "metadata": {},
   "outputs": [],
   "source": []
  }
 ],
 "metadata": {
  "kernelspec": {
   "display_name": "Python (Qiskitenv)",
   "language": "python",
   "name": "qiskitenv"
  },
  "language_info": {
   "codemirror_mode": {
    "name": "ipython",
    "version": 3
   },
   "file_extension": ".py",
   "mimetype": "text/x-python",
   "name": "python",
   "nbconvert_exporter": "python",
   "pygments_lexer": "ipython3",
   "version": "3.6.0"
  }
 },
 "nbformat": 4,
 "nbformat_minor": 2
}
