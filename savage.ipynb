{
 "cells": [
  {
   "cell_type": "markdown",
   "metadata": {},
   "source": [
    "# Starting with Martin's Gates"
   ]
  },
  {
   "cell_type": "markdown",
   "metadata": {},
   "source": [
    "- This was a first, rough run-through for the VQE simulation workflow. \n",
    "- I am using Natalie & Martin's work ([1803.03326v3](https://arxiv.org/abs/1803.03326)) as a reference, replicating what they've done.\n",
    "- In this notebook, I use Qiskit's codebase only minimally: consequently, the code is verbose but explicit, and it may be useful when trying to understand what happens in a VQE simulation."
   ]
  },
  {
   "cell_type": "markdown",
   "metadata": {},
   "source": [
    "### Background information for reference\n",
    "The Schwinger model is a $1+1$D theory of quantum electrodynamics (QED). It describes fermions as a two-component spinor field $\\psi$, with mass $m$, coupled via charge $g$ to an electromagnetic field $A_\\mu$ in infinite continuum space, with the Lagrangian given by\n",
    "\n",
    "\\begin{equation}\n",
    "    \\mathcal{L} = \\bar{\\psi} \\left(i \\gamma^\\mu D_\\mu - m \\right) \\psi - \\frac{1}{4} F_{\\mu\\nu} F^{\\mu\\nu},\n",
    "\\end{equation}\n",
    "\n",
    "where the covariant derivative $D$ and the field strength tensor $F_{\\mu\\nu}$ are respectively given by\n",
    "\n",
    "\\begin{equation}\n",
    "\\label{eq:schwinger-auxiliary}\n",
    "\\begin{aligned}\n",
    "    \\gamma^\\mu D_\\mu &= \\gamma^\\mu \\left( \\partial_\\mu + i g A_\\mu \\right),\\\\\n",
    "    F_{\\mu\\nu} &= \\partial_\\mu A_\\nu - \\partial_\\nu A_\\mu.\n",
    "\\end{aligned}\n",
    "\\end{equation}\n",
    "\n",
    "To simulate the system, we need to put in on a finite lattice. Generally, one has to be careful with latticizing the theory with spinor degrees of freedom to correctly retrieve the Dirac equation in the continuum limit; an approach that works, that was used in recent quantum-computer simulations and that we will also employ is a Kogut-Susskind staggered lattice formulation. On a staggered lattice, the two spinor components are put on neighboring sites. Finally, we use a Jordan-Wigner transformation to map the fermionic degrees of freedom to bosonic ones. The final form of the Hamiltonian suitable for simulations on quantum computers is given by \n",
    "\n",
    "\\begin{equation}\n",
    "\\label{eq:spin-ham}\n",
    "\\begin{aligned}\n",
    "    \\hat{H}_{\\mathrm{spin}} \n",
    "    &= w \\sum_{n=0}^{N-2} \n",
    "        (\\hat{\\sigma}^{+}_n \\hat{L}^{+}_n \\hat{\\sigma}^{-}_{n+1} + \\mathrm{h.c.})\n",
    "    +(-1)^{S} (\\hat{\\sigma}^{+}_{N-1} \\hat{L}^{+}_{N-1} \\hat{\\sigma}^{-}_{0} + \\mathrm{h.c.})   \\\\\n",
    "    &+ \\frac{m}{2} \\sum_{n=0}^{N-1} (-1)^n \\hat{\\sigma}^z_n\n",
    "    + J \\sum_{n=0}^{N-1} \\hat{\\ell}^2_n,\n",
    "\\end{aligned}\n",
    "\\end{equation}\n",
    "\n",
    "where $S$ is the total spin of the spin chain, and the number of spatial sites on the lattice, $N / 2$, is even. The coupling constants are given by $w = \\frac{1}{2a}$ and $J = \\frac{g^2 a}{2}$.\n",
    "\n",
    "### Numerical values for parameters\n",
    "\n",
    "- For our simulations (see Mathematica notebooks), we set $a = 1$, which fixes $w$. \n",
    "- We then specify dimensionless parameters $m/w$ and  $J/w$.\n",
    "- The latter fixes $g = 2 \\sqrt{J/w}$.\n",
    "- We set $J/w = 5/3 \\approx 1.667$ and \n",
    "- $m/w = 5/30 \\approx 0.167$.\n",
    "\n",
    "### The above can be used to relate these parameter to those in Martin's paper:\n",
    "- $x = \\frac{1}{(a g)^2} = 0.6.$  \n",
    "- $\\mu = \\frac{2 m}{(a g)^2} = 0.1.$\n",
    "- At these values, the predictions should match. Note that in Martin's paper, the Hamiltonian (and eigenenergies) are measured in units of $J$; to match our measurements with those reported by Martin, multiply their predictions by the value of $J$ corresponding to the numerical value of their parameters."
   ]
  },
  {
   "cell_type": "code",
   "execution_count": 3,
   "metadata": {},
   "outputs": [
    {
     "data": {
      "text/plain": [
       "<AccountProvider for IBMQ(hub='ibm-q', group='open', project='main')>"
      ]
     },
     "execution_count": 3,
     "metadata": {},
     "output_type": "execute_result"
    }
   ],
   "source": [
    "from qiskit import *\n",
    "import qiskit.tools.jupyter\n",
    "import numpy as np\n",
    "IBMQ.load_account()"
   ]
  },
  {
   "cell_type": "markdown",
   "metadata": {},
   "source": [
    "### Decompose the target Hamiltonian in the even parity sector to Pauli basis operators. The indexing of operators corresponds to that in Martin's paper, see Eq. (E3-E4)"
   ]
  },
  {
   "cell_type": "code",
   "execution_count": 4,
   "metadata": {},
   "outputs": [],
   "source": [
    "\n",
    "# so far, this is an input from a Mathematica notebook — decomposition of target Hamiltonian into pauli basis ops\n",
    "# diag = 9, 12, 15, 16 \n",
    "coeffs = np.array([                # smart sort       # greedy sort\n",
    "    0.424179,  #1                   YY/XX -> YY/XX      YY/XX -> YY/XX\n",
    "    0.,        #2\n",
    "    0.,        #3\n",
    "    0.,        #4\n",
    "    0.424179,  #5                   YY/XX -> YY/XX      YY/XX -> YY/XX\n",
    "    0.,        #6             \n",
    "    0.175701,  #7                   ZX -> ZX            ZX -> ZX\n",
    "    0.,        #8\n",
    "    -0.10018,  #9                   ZZ -> ZZ            ZZ -> ZZ\n",
    "    1.02406,   #10                  IX -> XX            IX -> XX\n",
    "    0.,        #11\n",
    "    -0.5,      #12                  IZ -> ZZ            IZ -> ZZ\n",
    "    0.,        #13                              \n",
    "    0.,        #14                  \n",
    "    -1.10018,  #15                  ZI -> ZZ            ZI -> ZZ\n",
    "    1.5        #16 (trace)          II -> YY            II -> XX    \n",
    "])"
   ]
  },
  {
   "cell_type": "code",
   "execution_count": 5,
   "metadata": {},
   "outputs": [],
   "source": [
    "# 0.25 * Tr[H * O] for some operators is 0\n",
    "# find non-zero coefficients, excluding the traceless part; \n",
    "# make 1-indexed rather than 0-indexed\n",
    "nonzero_proj=np.nonzero(coeffs[:-1])[0]+1\n",
    "diag = np.array([9, 12, 15])\n",
    "nondiag = np.setdiff1d(nonzero_proj, diag)\n",
    "qubit_order = ['00', '10', '01', '11'] # try various orderings\n",
    "od = { # O(diagonal) \n",
    "# corresponds to outcomes given by qubit_order\n",
    "# TODO add other diagonal form for completeness\n",
    "    1: [1., -1., -1., 1.],           \n",
    "#    3: None,            \n",
    "#    4: None, \n",
    "    5: [1., -1., -1., 1.],\n",
    "#    6: None,\n",
    "    7: [1., -1., -1., 1.],\n",
    "#    8: None, \n",
    "    9: [1., -1., -1., 1.],\n",
    "    10: [1., -1., 1., -1.],\n",
    "#    11: None,\n",
    "    12: [1., -1., 1., -1.],\n",
    "#    13: None,\n",
    "#    14: None,\n",
    "    15: [1., 1., -1., -1.],\n",
    "}    \n",
    "# because IBM ordering and textbook ordering of qubits differs, \n",
    "# associate each diagonal element with qubit ordering explicitly\n",
    "for index, diag_form in od.items():\n",
    "    od[index] = dict(zip(qubit_order, diag_form))"
   ]
  },
  {
   "cell_type": "markdown",
   "metadata": {},
   "source": [
    "## Define additional gates for non-diagonal operators"
   ]
  },
  {
   "cell_type": "code",
   "execution_count": 7,
   "metadata": {},
   "outputs": [],
   "source": [
    "# group non-diagonal operators into groups that have the same circuit\n",
    "# TODO: how to do this automatically?\n",
    "nondiag_circ_groups = [[1,], [5,], [7, 10,]]"
   ]
  },
  {
   "cell_type": "code",
   "execution_count": 8,
   "metadata": {},
   "outputs": [
    {
     "name": "stdout",
     "output_type": "stream",
     "text": [
      "There are 4 unique circuits\n"
     ]
    }
   ],
   "source": [
    "# TODO circuit indices corresponding to operator indices\n",
    "# all necessary circuits are indexed (from 0); these indices are values of this dict,\n",
    "# keyed on all indices of those Pauli operators that have a non-zero contribution\n",
    "# to the traceless part of the Hamiltonian\n",
    "circ_idx = {}\n",
    "for diag_idx in diag:\n",
    "    # assign circuit index 0 to operator indices for diagonal operator; \n",
    "    circ_idx[diag_idx] = 0\n",
    "# assign higher indices to all groups of non-diagonal operators, \n",
    "# where all operators in a group have the same circuit\n",
    "circ_index = 1\n",
    "for circ_group in nondiag_circ_groups:\n",
    "    for nondiag_idx in circ_group:\n",
    "        circ_idx[nondiag_idx] = circ_index\n",
    "    circ_index += 1\n",
    "ncircuits = len(np.unique(list(circ_idx.values())))\n",
    "print(f'There are {ncircuits:d} unique circuits')"
   ]
  },
  {
   "cell_type": "code",
   "execution_count": 9,
   "metadata": {},
   "outputs": [],
   "source": [
    "# stores indexes circuits \n",
    "circ = {}\n",
    "# define number of qubits and bits\n",
    "nqubits = 2 \n",
    "nclbits = 2 \n",
    "# create registers\n",
    "vqs_qreg = QuantumRegister(nqubits, name=\"q\")\n",
    "vqs_creg = ClassicalRegister(nclbits, name=\"c\")\n",
    "regs = [vqs_qreg, vqs_creg]\n",
    "# FIXME: some circuits are the same for different operators \n",
    "# => don't actually need separate measurements; \n",
    "# store operator indices grouped in arrays, \n",
    "# with the same circuit for each array.\n",
    "# Thus, all diagonal operators will have the same circuit, and\n",
    "# some non-diagonal operators will have the same circuit.\n",
    "# This circuit is the same for all diagonal operators\n",
    "for icirc in range(ncircuits):\n",
    "    circ[icirc] = QuantumCircuit(*regs, name=str(icirc))\n",
    "# measurement circuit\n",
    "meas = QuantumCircuit(*regs, name=\"meas\")\n",
    "# .barrier prevents optimizations\n",
    "# from reordering gates across its source line\n",
    "meas.barrier(range(nqubits)) \n",
    "meas.measure(range(nqubits), range(nqubits)) #  map qubits to clbits\n",
    "# constructs the non-diagonal circuits for operators 1, 5, and 7 and 10\n",
    "# 1\n",
    "circ[circ_idx[1]].h(0)\n",
    "circ[circ_idx[1]].iden(0)\n",
    "##\n",
    "circ[circ_idx[1]].iden(1)\n",
    "circ[circ_idx[1]].h(1)\n",
    "# 5\n",
    "##\n",
    "circ[circ_idx[5]].h(0)\n",
    "circ[circ_idx[5]].iden(1)\n",
    "##\n",
    "circ[circ_idx[5]].sdg(0)   # conjugate of sqrt(Z) gate\n",
    "circ[circ_idx[5]].iden(1)\n",
    "##\n",
    "circ[circ_idx[5]].iden(0)\n",
    "circ[circ_idx[5]].h(1)\n",
    "##\n",
    "circ[circ_idx[5]].iden(0)\n",
    "circ[circ_idx[5]].sdg(1)\n",
    "# 7 and 10  \n",
    "circ[circ_idx[7]].iden(0)\n",
    "circ[circ_idx[7]].h(1)\n",
    "# add measurement to all operator circuits \n",
    "for icirc in range(ncircuits):\n",
    "    # add measurement\n",
    "    # can't see to modify value of this dict \n",
    "    # by using an iterator over values: \n",
    "    # probably, the QuantumCircuit object is \n",
    "    # copied by value to the iterator in that case\n",
    "    circ[icirc] = circ[icirc] + meas"
   ]
  },
  {
   "cell_type": "code",
   "execution_count": 7,
   "metadata": {},
   "outputs": [
    {
     "name": "stdout",
     "output_type": "stream",
     "text": [
      "Circuit for O9\n"
     ]
    },
    {
     "data": {
      "image/png": "[encoded data removed]",
      "text/plain": [
       "<PIL.Image.Image image mode=RGB size=303x219 at 0x124F46518>"
      ]
     },
     "execution_count": 7,
     "metadata": {},
     "output_type": "execute_result"
    }
   ],
   "source": [
    "# can browse through various circuits associated to operators\n",
    "index = 9\n",
    "print(f'Circuit for O{index:1d}')\n",
    "circ[circ_idx[index]].draw(output='latex', scale=0.5)"
   ]
  },
  {
   "cell_type": "code",
   "execution_count": 10,
   "metadata": {},
   "outputs": [],
   "source": [
    "backend_sim = Aer.get_backend('qasm_simulator')\n",
    "# execute the circuit on qasm_simulator backend;\n",
    "# set repeats (measurement shots) at 1024 (default)\n",
    "# memory = True:\n",
    "#   per-shot measurement bitstrings are returned \n",
    "#   as well (provided the backend supports it)"
   ]
  },
  {
   "cell_type": "code",
   "execution_count": 9,
   "metadata": {},
   "outputs": [],
   "source": [
    "nshots = 8*1021\n",
    "# stores results indexed by operator \n",
    "job = {}\n",
    "res = {}\n",
    "for icirc in range(ncircuits):\n",
    "    job[icirc] = execute(circ[icirc], backend_sim, shots=nshots, memory=True)\n",
    "    res[icirc] = job[icirc].result()"
   ]
  },
  {
   "cell_type": "code",
   "execution_count": null,
   "metadata": {},
   "outputs": [],
   "source": [
    "# takes in results from a single circuit \n",
    "# with memory=True, and estimates\n",
    "# the uncertanities on the probability of each outcome \n",
    "# (currently with bootstrap)\n",
    "# returns outcome:(pba, std) dictionary\n",
    "def compute_stats(results):\n",
    "    # check that there is a single circuit in the results\n",
    "    # (ambiguous otherwise)\n",
    "    # TODO\n",
    "    # pull number of qubits from results\n",
    "    # generates all possible outcomes given \\\n",
    "    # the number of qubits\n",
    "    def _generate_bitstrings(nqubits=2):\n",
    "        if (nqubits == 2):\n",
    "            return ['00', '10', '01', '11']\n",
    "        else:\n",
    "            print(\"I am hardcoded at the moment\")\n",
    "            raise\n",
    "    # bootstrap specific?\n",
    "    # given ensembles of outcomes and a particular outcome\n",
    "    # calculates the statistics of that outcome:\n",
    "    # returns outcome:(pba, std) estimates for the outcome\n",
    "    def _calc_outcome_stats(ensembles, nshots, outcome):\n",
    "        cts = np.count_nonzero(ensembles==outcome, axis=0)\n",
    "        pba = np.mean(cts)/nshots\n",
    "        std = np.std(cts/nshots, ddof = 1) # use unbiased estimator\n",
    "        return (pba, std)\n",
    "    outcomes = _generate_bitstrings()\n",
    "    mem = res.get_memory()\n",
    "    # stores pba[i][outcome] = [mean, std]\n",
    "    pba[i] = {outcome:[0.,0.] for outcome in outcomes} \n",
    "    # build ensembles\n",
    "    # TODO retrieve nshots from results\n",
    "    nshots = 1024\n",
    "    nens = nshots # choose number of ensemles = number of samples\n",
    "    nsam = nshots\n",
    "    ensembles = np.random.choice(mem[i], (nens, nsam))\n",
    "    stats = {map(lambda outcome:  outcome:_calc_outcome_stats(ensembles, nshots, outcome), outcomes)}\n",
    "    return stats"
   ]
  },
  {
   "cell_type": "code",
   "execution_count": 5,
   "metadata": {},
   "outputs": [],
   "source": [
    "import numpy as np"
   ]
  },
  {
   "cell_type": "code",
   "execution_count": 189,
   "metadata": {},
   "outputs": [],
   "source": [
    "# Function to generate all binary strings  \n",
    "def _generate_bitstrings(nqubits, all_strings, a_string, irecur):  \n",
    "  \n",
    "    if irecur == nqubits: \n",
    "        all_strings.append(''.join([bit for bit in a_string]))\n",
    "        return \n",
    "      \n",
    "    _generate_bitstrings(nqubits, all_strings, a_string + ['0'], irecur + 1)\n",
    "\n",
    "    _generate_bitstrings(nqubits, all_strings, a_string + ['1'], irecur + 1)"
   ]
  },
  {
   "cell_type": "code",
   "execution_count": 190,
   "metadata": {},
   "outputs": [],
   "source": [
    "all_strings = []"
   ]
  },
  {
   "cell_type": "code",
   "execution_count": 193,
   "metadata": {},
   "outputs": [],
   "source": [
    "_generate_bitstrings(2, all_strings, [], 0)"
   ]
  },
  {
   "cell_type": "code",
   "execution_count": 194,
   "metadata": {},
   "outputs": [
    {
     "name": "stdout",
     "output_type": "stream",
     "text": [
      "['0', '1', '00', '01', '10', '11']\n"
     ]
    }
   ],
   "source": [
    "print(all_strings)"
   ]
  },
  {
   "cell_type": "code",
   "execution_count": 10,
   "metadata": {},
   "outputs": [
    {
     "name": "stdout",
     "output_type": "stream",
     "text": [
      "0\n",
      "00: 1, 0\n",
      "10: 0, 0\n",
      "01: 0, 0\n",
      "11: 0, 0\n",
      "1\n",
      "00: 0.247, 0.005\n",
      "10: 0.249, 0.005\n",
      "01: 0.252, 0.005\n",
      "11: 0.252, 0.005\n",
      "2\n",
      "00: 0.259, 0.005\n",
      "10: 0.255, 0.005\n",
      "01: 0.242, 0.005\n",
      "11: 0.244, 0.005\n",
      "3\n",
      "00: 0.507, 0.005\n",
      "10: 0.493, 0.005\n",
      "01: 0, 0\n",
      "11: 0, 0\n"
     ]
    }
   ],
   "source": [
    "# computes probabilities and statistical uncertainties; \n",
    "# also saves raw counts to bootstrap on H directly\n",
    "mem = {} # stores all measurement results\n",
    "cts = {} # stores a total count of results \n",
    "pba = {} # stores final probabilities \n",
    "outcomes = ['00', '10', '01', '11'] # specific two 2-qubit register\n",
    "for i in range(ncircuits):\n",
    "    cts[i] = res[i].get_counts(circ[i]) # this just sets the right shape for cts array\n",
    "    mem[i] = res[i].get_memory(circ[i])\n",
    "    pba[i] = {outcome:[0.,0.] for outcome in outcomes} # stores pba[i][outcome] = [mean, std]\n",
    "    nens = nshots\n",
    "    nsam = nshots\n",
    "    ensembles = np.random.choice(mem[i], (nens, nsam))\n",
    "    print(f'{i:d}')\n",
    "    for outcome in outcomes:\n",
    "        cts[i][outcome] = np.count_nonzero(ensembles==outcome, axis=0)\n",
    "        pba[i][outcome][0] = (np.mean(cts[i][outcome])/nshots)\n",
    "        pba[i][outcome][1] = (np.std(cts[i][outcome], ddof = 1)/nshots)\n",
    "        print(f'{outcome}: {pba[i][outcome][0]:1.3g}, {pba[i][outcome][1]:1.1g}')"
   ]
  },
  {
   "cell_type": "code",
   "execution_count": 11,
   "metadata": {},
   "outputs": [],
   "source": [
    "# get array of operator indices corresponding to a circuit index\n",
    "op_idx = {}\n",
    "for op_index, circ_index in circ_idx.items():\n",
    "    op_idx[circ_index] = op_idx.setdefault(circ_index, [])\n",
    "    op_idx[circ_index].append(op_index)"
   ]
  },
  {
   "cell_type": "code",
   "execution_count": 12,
   "metadata": {},
   "outputs": [
    {
     "name": "stdout",
     "output_type": "stream",
     "text": [
      "[1.0, 0.0]\n"
     ]
    }
   ],
   "source": [
    "# compute the value of identity measurement\n",
    "id_meas = [0.0, 0.0] # value, error\n",
    "# circuit index for diagonal operators is 0 \n",
    "id_mem = res[0].get_memory(circ[0]) # also compute measurement results to bootstrap on H directly \n",
    "id_cts = res[0].get_counts(circ[0]) # this just sets the right shape for cts array\n",
    "for outcome in outcomes:\n",
    "    nens = len(id_mem)\n",
    "    nsam = len(id_mem)\n",
    "    ensembles = np.random.choice(id_mem, (nens, nsam))\n",
    "    id_cts[outcome] = np.count_nonzero(ensembles==outcome, axis=0)\n",
    "    id_meas[0] += pba[0][outcome][0]\n",
    "    id_meas[1] += pba[0][outcome][1]**2.\n",
    "id_meas[1] = np.sqrt(id_meas[1])\n",
    "print(id_meas) # expect value = 1.0 from probability normalization"
   ]
  },
  {
   "cell_type": "code",
   "execution_count": 13,
   "metadata": {},
   "outputs": [
    {
     "name": "stdout",
     "output_type": "stream",
     "text": [
      "circuit index 0\n",
      "00: 1.000, 0.000\n",
      "10: 0.000, 0.000\n",
      "01: 0.000, 0.000\n",
      "11: 0.000, 0.000\n",
      "[9, 12, 15]\n",
      "operator 9\n",
      "00: 1.0\n",
      "10: -1.0\n",
      "01: -1.0\n",
      "11: 1.0\n",
      "1.0000, 0.0000\n",
      "operator 12\n",
      "00: 1.0\n",
      "10: -1.0\n",
      "01: 1.0\n",
      "11: -1.0\n",
      "1.0000, 0.0000\n",
      "operator 15\n",
      "00: 1.0\n",
      "10: 1.0\n",
      "01: -1.0\n",
      "11: -1.0\n",
      "1.0000, 0.0000\n",
      "circuit index 1\n",
      "00: 0.247, 0.005\n",
      "10: 0.249, 0.005\n",
      "01: 0.252, 0.005\n",
      "11: 0.252, 0.005\n",
      "[1]\n",
      "operator 1\n",
      "00: 1.0\n",
      "10: -1.0\n",
      "01: -1.0\n",
      "11: 1.0\n",
      "-0.0016, 0.0191\n",
      "circuit index 2\n",
      "00: 0.259, 0.005\n",
      "10: 0.255, 0.005\n",
      "01: 0.242, 0.005\n",
      "11: 0.244, 0.005\n",
      "[5]\n",
      "operator 5\n",
      "00: 1.0\n",
      "10: -1.0\n",
      "01: -1.0\n",
      "11: 1.0\n",
      "0.0056, 0.0191\n",
      "circuit index 3\n",
      "00: 0.507, 0.005\n",
      "10: 0.493, 0.005\n",
      "01: 0.000, 0.000\n",
      "11: 0.000, 0.000\n",
      "[7, 10]\n",
      "operator 7\n",
      "00: 1.0\n",
      "10: -1.0\n",
      "01: -1.0\n",
      "11: 1.0\n",
      "0.0139, 0.0110\n",
      "operator 10\n",
      "00: 1.0\n",
      "10: -1.0\n",
      "01: 1.0\n",
      "11: -1.0\n",
      "0.0139, 0.0110\n"
     ]
    }
   ],
   "source": [
    "# computing expectation values of operators, which have one set of indices\n",
    "# from measurement outcomes, which are indexed by circuits. Some operators correspond to the same circuit\n",
    "# circ_idx[operator_index] is a dictionary of circuit indices keyed on operator indices\n",
    "# also propagating raw measurement results to bootstrap on H directly\n",
    "od_meas = {index:[0.0, 0.0] for index in od.keys()} # store (measurement, uncert) for operators here\n",
    "#od_cts = {}\n",
    "for circ_index in range(ncircuits): # loop over various circuits \n",
    "    print(f'circuit index {circ_index:d}')\n",
    "    for outcome in outcomes:\n",
    "        # probabilities of measurements are associated with circuits \n",
    "        print(f'{outcome}: {pba[circ_index][outcome][0]:3.3f}, {pba[circ_index][outcome][1]:3.3f}')\n",
    "    print(op_idx[circ_index])\n",
    "    for op_index in op_idx[circ_index]:# consider every operator corresponding to current circuit\n",
    "        # copies counts from circuit measurements to corresponding operator\n",
    "        #od_cts[op_index] = cts[circ_index][:] # does not modify the counts array\n",
    "        #print(od_cts[op_index])\n",
    "        print(f'operator {op_index:d}')\n",
    "        for outcome in outcomes:       # loop over possible outcomes (measured qubit configurations)\n",
    "            # eigenvalues multiplying the probabilities are associated with operators\n",
    "            eigenval = od[op_index][outcome]\n",
    "            print(f'{outcome}: {eigenval:1.1f}')\n",
    "            # propagate counts, weighted by the eigenvalues\n",
    "            #od_cts[op_index][outcome] = np.array(od_cts[op_index][outcome], dtype=np.float64)\n",
    "            #print(od_cts[op_index][outcome])\n",
    "            #od_cts[op_index][outcome] *= eigenval\n",
    "            #print(od_cts[op_index][outcome])\n",
    "            # multiply probabilities of outcomes by corresponding eigenvalue, sum over eigenvalues\n",
    "            od_meas[op_index][0] += eigenval * pba[circ_index][outcome][0]  # probability * eigenvalue\n",
    "            od_meas[op_index][1] += abs(eigenval) * pba[circ_index][outcome][1]  # propagated uncertainty ? FIXME\n",
    "        # take squre root of sum of squares of uncertainties (assuming uncorrelated projected measurements)\n",
    "        # od_meas[op_index][1] = np.sqrt(od_meas[op_index][1])\n",
    "        print(f'{od_meas[op_index][0]:4.4f}, {od_meas[op_index][1]:4.4f}')"
   ]
  },
  {
   "cell_type": "code",
   "execution_count": 14,
   "metadata": {},
   "outputs": [
    {
     "name": "stdout",
     "output_type": "stream",
     "text": [
      "(-0.1833322988101964, 0.01479402233762066)\n",
      "[-0.18193626909202765, 0.02936605383529714]\n"
     ]
    }
   ],
   "source": [
    "# combine probabilities and uncertainties to get the the expectation value of H in the fidicial state\n",
    "H_expect = [0.,0.]\n",
    "test = {outcome:0.0 for outcome in outcomes} # counts\n",
    "for i_nz_c in nonzero_proj:\n",
    "    coeff = coeffs[i_nz_c-1] # shift back to 0-indexed\n",
    "    value = od_meas[i_nz_c][0]\n",
    "    error = od_meas[i_nz_c][1]\n",
    "    H_expect[0] += coeff*value\n",
    "    H_expect[1] += abs(coeff)*error\n",
    "    for outcome in outcomes:\n",
    "        eigenval = od[op_index][outcome]\n",
    "        test[outcome] += (coeff * eigenval * cts[circ_idx[i_nz_c]][outcome] / nshots)\n",
    "test2=np.zeros(nsam)\n",
    "for outcome in outcomes:\n",
    "    test2 += test[outcome]\n",
    "    test2 += coeffs[15]*(id_cts[outcome]/nshots)\n",
    "# add the trace back\n",
    "mean2= np.mean(test2)\n",
    "std2 = np.std(test2)\n",
    "print((mean2, std2))\n",
    "# add the trace back\n",
    "H_expect[0] += coeffs[15] * id_meas[0] \n",
    "H_expect[1] += abs(coeffs[15]) * id_meas[1]\n",
    "print(H_expect)"
   ]
  },
  {
   "cell_type": "code",
   "execution_count": 15,
   "metadata": {},
   "outputs": [
    {
     "name": "stdout",
     "output_type": "stream",
     "text": [
      "(-0.1833322988101964, 0.01479402233762066)\n",
      "(-0.16853827647257572, -0.19812632114781706)\n",
      "-0.20035992801439712\n"
     ]
    }
   ],
   "source": [
    "mathematica_res = -0.20035992801439712\n",
    "#print(H_expect)\n",
    "print((mean2, std2))\n",
    "#print(H_expect[0]+H_expect[1], H_expect[0]-H_expect[1])\n",
    "print((mean2+std2, mean2-std2))\n",
    "print(mathematica_res)"
   ]
  },
  {
   "cell_type": "markdown",
   "metadata": {},
   "source": [
    "## Plot results"
   ]
  },
  {
   "cell_type": "code",
   "execution_count": 16,
   "metadata": {},
   "outputs": [
    {
     "data": {
      "image/png": "[encoded data removed]",
      "text/plain": [
       "<Figure size 432x288 with 1 Axes>"
      ]
     },
     "metadata": {
      "needs_background": "light"
     },
     "output_type": "display_data"
    }
   ],
   "source": [
    "import matplotlib.pyplot as plt\n",
    "diag_bars =  np.arange(len(diag))\n",
    "avgs = [od_meas[diag_index][0] for diag_index in diag]\n",
    "stds = [od_meas[diag_index][1] for diag_index in diag]\n",
    "fig, ax = plt.subplots()\n",
    "ax.bar(diag_bars, avgs, yerr=stds, align='center', alpha=0.5, ecolor='black',\n",
    "       edgecolor='k',\n",
    "       error_kw=dict(lw=0.5, capsize=10, capthick=2.0),\n",
    "       label='IBM sim')\n",
    "ax.set_ylabel(r'$\\langle O \\rangle_{\\psi_{\\mathrm{ini}}}$', fontsize=16)\n",
    "ax.set_xlabel('Diagonal Operators', fontsize=16)\n",
    "ax.set_xticks(diag_bars)\n",
    "ax.set_xticklabels(diag)\n",
    "ax.set_title(f'nshots={nshots:d}', fontsize=16)\n",
    "ax.axhline(y = 1.0, color='r', linewidth = 0.5, label='Mathematica')\n",
    "plt.ylim([0.99, 1.001])\n",
    "plt.tight_layout()\n",
    "plt.legend(frameon=False, fontsize=16, bbox_to_anchor=(1.04,1), loc=\"upper left\")\n",
    "plt.savefig(\"op_diag.png\", dpi=300)"
   ]
  },
  {
   "cell_type": "code",
   "execution_count": 17,
   "metadata": {},
   "outputs": [
    {
     "data": {
      "image/png": "[encoded data removed]",
      "text/plain": [
       "<Figure size 432x288 with 1 Axes>"
      ]
     },
     "metadata": {
      "needs_background": "light"
     },
     "output_type": "display_data"
    }
   ],
   "source": [
    "nondiag_bars =  np.arange(len(nondiag))\n",
    "avgs = [od_meas[diag_index][0] for diag_index in nondiag]\n",
    "stds = [od_meas[diag_index][1] for diag_index in nondiag]\n",
    "fig, ax = plt.subplots()\n",
    "ax.bar(nondiag_bars, avgs, yerr=stds, align='center', alpha=0.5, ecolor='black',\n",
    "       edgecolor='k',\n",
    "       error_kw=dict(lw=0.5, capsize=10, capthick=2.0),\n",
    "       label='IBM sim')\n",
    "ax.set_ylabel(r'$\\langle O \\rangle_{\\psi_{\\mathrm{ini}}}$', fontsize=16)\n",
    "ax.set_xlabel('Non-Diagonal Operators', fontsize=16)\n",
    "ax.set_xticks(nondiag_bars)\n",
    "ax.set_xticklabels(nondiag)\n",
    "ax.set_title(f'nshots={nshots:d}', fontsize=16)\n",
    "ax.axhline(y = 0.0, color='r', linewidth = 0.5, label='Mathematica')\n",
    "plt.tight_layout()\n",
    "plt.legend(frameon=False, fontsize=16, bbox_to_anchor=(1.04,1), loc=\"upper left\")\n",
    "plt.savefig(\"op_nondiag.png\", dpi=300)"
   ]
  },
  {
   "cell_type": "code",
   "execution_count": null,
   "metadata": {},
   "outputs": [],
   "source": []
  }
 ],
 "metadata": {
  "kernelspec": {
   "display_name": "Python (Qiskitenv)",
   "language": "python",
   "name": "qiskitenv"
  },
  "language_info": {
   "codemirror_mode": {
    "name": "ipython",
    "version": 3
   },
   "file_extension": ".py",
   "mimetype": "text/x-python",
   "name": "python",
   "nbconvert_exporter": "python",
   "pygments_lexer": "ipython3",
   "version": "3.6.0"
  }
 },
 "nbformat": 4,
 "nbformat_minor": 2
}
