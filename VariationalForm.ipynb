{
 "cells": [
  {
   "cell_type": "markdown",
   "metadata": {},
   "source": [
    "### Schwinger variational form (the ansatz) derived from VariationalForm class in Qiskit"
   ]
  },
  {
   "cell_type": "code",
   "execution_count": 11,
   "metadata": {},
   "outputs": [
    {
     "name": "stderr",
     "output_type": "stream",
     "text": [
      "/Users/Arthur/anaconda2/envs/Qiskitenv/lib/python3.6/site-packages/qiskit/providers/ibmq/ibmqfactory.py:181: UserWarning: Credentials are already in use. The existing account in the session will be replaced.\n",
      "  warnings.warn('Credentials are already in use. The existing '\n"
     ]
    },
    {
     "data": {
      "text/plain": [
       "<AccountProvider for IBMQ(hub='ibm-q', group='open', project='main')>"
      ]
     },
     "execution_count": 11,
     "metadata": {},
     "output_type": "execute_result"
    }
   ],
   "source": [
    "from qiskit import *\n",
    "import qiskit.tools.jupyter\n",
    "import numpy as np\n",
    "IBMQ.load_account()"
   ]
  },
  {
   "cell_type": "code",
   "execution_count": 41,
   "metadata": {},
   "outputs": [],
   "source": [
    "class SchwingerAnsatz(qiskit.aqua.components.variational_forms.VariationalForm):\n",
    "    \"\"\" Variational Layer from Martin's Paper \"\"\"\n",
    "    \n",
    "    CONFIGURATION = {\n",
    "        'name': 'Schwinger Ansatz',\n",
    "        'description': 'Variational Form for Schwinger VQE',\n",
    "        'input_schema': {\n",
    "            '$schema': 'http://json-schema.org/draft-07/schema#',\n",
    "            'id': 'schwinger_schema',\n",
    "            'type': 'object',\n",
    "            'properties': {\n",
    "                'depth': {\n",
    "                    'type': 'integer',\n",
    "                    'default': 3,\n",
    "                    'minimum': 1\n",
    "                },\n",
    "                'entangler_map': {\n",
    "                    'type': ['array', 'null'],\n",
    "                    'default': None\n",
    "                },\n",
    "                'entanglement_gate': {\n",
    "                    'type': 'string',\n",
    "                    'default': 'cx',\n",
    "                    'enum': ['cx']\n",
    "                },\n",
    "            },\n",
    "            'additionalProperties': False\n",
    "        },\n",
    "        'depends': [\n",
    "            {\n",
    "                'pluggable_type': 'initial_state',\n",
    "                'default': {\n",
    "                    'name': 'ZERO',\n",
    "                }\n",
    "            },\n",
    "        ],\n",
    "    }\n",
    "    \n",
    "    def __init__(self, depth=3, entangler_map=None, initial_state=None):\n",
    "        \"\"\"\n",
    "        Constructor.\n",
    "        Args:\n",
    "            depth (int) : number of rotation layers\n",
    "            entangler_map (list[list]): describe the connectivity of qubits, each list describes\n",
    "                             [source, target], or None for full entanglement.\n",
    "                             Note that the order is the list is the order of\n",
    "                             applying the two-qubit gate.\n",
    "            initial_state (InitialState): an initial state object\n",
    "        \"\"\"\n",
    "        self.validate(locals())\n",
    "        super().__init__()\n",
    "        # hard-coded, first pass through FIXME\n",
    "        num_qubits = 2\n",
    "        num_parameters = 3\n",
    "        entanglement='full'\n",
    "        entanglement_gate='cx'\n",
    "        skip_unentangled_qubits = False\n",
    "        self._num_qubits = num_qubits \n",
    "        self._depth = depth\n",
    "        if entangler_map is None:\n",
    "            self._entangler_map = qiskit.aqua.components.variational_forms.VariationalForm.get_entangler_map(entanglement, num_qubits)\n",
    "        else:\n",
    "            self._entangler_map = qiskit.aqua.components.variational_forms.VariationalForm.validate_entangler_map(entangler_map, num_qubits)\n",
    "        # determine the entangled qubits\n",
    "        all_qubits = []\n",
    "        for src, targ in self._entangler_map:\n",
    "            all_qubits.extend([src, targ])\n",
    "        self._entangled_qubits = sorted(list(set(all_qubits)))\n",
    "        self._initial_state = initial_state\n",
    "        self._entanglement_gate = entanglement_gate\n",
    "        self._skip_unentangled_qubits = skip_unentangled_qubits\n",
    "        # for the first layer\n",
    "        self._num_parameters = num_parameters\n",
    "        # for repeated block\n",
    "        self._num_parameters += num_parameters * (depth-1)\n",
    "        self._bounds = [(-np.pi, np.pi)] * self._num_parameters\n",
    "    \n",
    "    def construct_circuit(self, parameters, q=None):\n",
    "        \"\"\"\n",
    "        Construct the variational form, given its parameters.\n",
    "        \n",
    "        Args:\n",
    "            parameters (numpy.ndarray): circuit parameters\n",
    "            q (QuantumRegister): Quantum Register for the circuit.\n",
    "            \n",
    "        Returns:\n",
    "            QuantumCircuit: a quantum circuit with given `parameters`\n",
    "            \n",
    "        Raises:\n",
    "            ValueError: the number of parameters is incorrect.\n",
    "        \"\"\"\n",
    "        if len(parameters) != self._num_parameters:\n",
    "            raise ValueError('The number of parameters has to be {}'.format(self._num_parameters))\n",
    "        \n",
    "        if q is None:\n",
    "            q = QuantumRegister(self._num_qubits, name='q')\n",
    "        if self._initial_state is not None:\n",
    "            circuit = self._initial_state.construct_circuit('circuit', q)\n",
    "        else:\n",
    "            circuit = QuantumCircuit(q)\n",
    "        #\n",
    "        param_idx = 0\n",
    "        \n",
    "        def angle(theta=0., phi=0., lam=0.):\n",
    "            return [theta, phi, lam]\n",
    "\n",
    "        for _ in range(self._depth):\n",
    "            # get variational parameters for this layer\n",
    "            t0 = parameters[param_idx] # theta-angle values\n",
    "            t1 = parameters[param_idx+1]\n",
    "            t2 = parameters[param_idx+2]\n",
    "            t = [angle(t_i) for t_i in [t0, t1, t2]]\n",
    "            # Construct circuit\n",
    "            circuit.u3(*(t[1]), 0)  # u3(*angles, q)\n",
    "            circuit.u3(*(t[0]), 1)\n",
    "            circuit.cx(0, 1)        # entangling qubit cx(ctrl, tgt)\n",
    "            circuit.u3(*(t[0]), 1)\n",
    "            circuit.cx(0, 1)        # entangling qubit cx(ctrl, tgt)\n",
    "            circuit.u3(*(t[2]), 1)\n",
    "            circuit.barrier(q)\n",
    "\n",
    "        return circuit  "
   ]
  },
  {
   "cell_type": "code",
   "execution_count": 42,
   "metadata": {},
   "outputs": [],
   "source": [
    "test = SchwingerAnsatz(1)"
   ]
  },
  {
   "cell_type": "code",
   "execution_count": 44,
   "metadata": {},
   "outputs": [],
   "source": [
    "vqs_circ = test.construct_circuit([-0.386244, 0.317799, -0.416888])"
   ]
  },
  {
   "cell_type": "code",
   "execution_count": 45,
   "metadata": {},
   "outputs": [
    {
     "data": {
      "image/png": "[encoded data removed]",
      "text/plain": [
       "<PIL.Image.Image image mode=RGB size=919x92 at 0x12B4E9EF0>"
      ]
     },
     "execution_count": 45,
     "metadata": {},
     "output_type": "execute_result"
    }
   ],
   "source": [
    "vqs_circ.draw(output='latex', scale=0.5)"
   ]
  }
 ],
 "metadata": {
  "kernelspec": {
   "display_name": "Python (Qiskitenv)",
   "language": "python",
   "name": "qiskitenv"
  },
  "language_info": {
   "codemirror_mode": {
    "name": "ipython",
    "version": 3
   },
   "file_extension": ".py",
   "mimetype": "text/x-python",
   "name": "python",
   "nbconvert_exporter": "python",
   "pygments_lexer": "ipython3",
   "version": "3.6.0"
  }
 },
 "nbformat": 4,
 "nbformat_minor": 2
}
